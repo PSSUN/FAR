{
 "cells": [
  {
   "cell_type": "code",
   "execution_count": 1,
   "metadata": {},
   "outputs": [],
   "source": [
    "from bs4 import BeautifulSoup as bs4\n",
    "import requests\n",
    "import json\n",
    "import pandas as pd"
   ]
  },
  {
   "cell_type": "code",
   "execution_count": null,
   "metadata": {},
   "outputs": [],
   "source": [
    "url = 'http://www.translatomedb.net/SWSYWS.asmx/searchExperimentalData'\n",
    "header={'User-Agent':'Mozilla/5.0 (Macintosh; Intel Mac OS X 10.15; rv:77.0) Gecko/20100101 Firefox/77.0',\n",
    "        'Host':'www.translatomedb.net',\n",
    "        'Content-Type': 'application/json; charset=UTF-8',\n",
    "        'Accept': 'application/json, text/javascript, */*; q=0.01',\n",
    "        'Accept-Encoding': 'gzip, deflate',\n",
    "        'Referer': 'http://www.translatomedb.net/searchDownload.html',\n",
    "        'Origin': 'http://www.translatomedb.net',\n",
    "        'Content-Type': 'application/json; charset=UTF-8',\n",
    "        'Accept-Language': 'zh-CN,zh;q=0.8,zh-TW;q=0.7,zh-HK;q=0.5,en-US;q=0.3,en;q=0.2',\n",
    "        'X-Requested-With': 'XMLHttpRequest',\n",
    "        'Connection': 'keep-alive',\n",
    "        'Cookie':'Hm_lvt_db1e66967eaace6d18db99b987c0c0ee=1591430772,1591875677; Hm_lpvt_db1e66967eaace6d18db99b987c0c0ee=1591878733'}\n",
    "ribo_dic = []\n",
    "for j in range(1,291):\n",
    "    print(j)\n",
    "    pyload = {\"pageSize\":20,\n",
    "              \"pageNumber\":j,\n",
    "              \"offset\":5780,\n",
    "              \"sortName\":\"\",\n",
    "              \"sortOrder\":\"asc\",\n",
    "              \"experimental\":{\"ed_species\":\"\",\n",
    "                              \"ed_cellLine_strain\":\"\",\n",
    "                              \"ed_ecotype\":\"\",\n",
    "                              \"ed_cell_tissue\":\"\",\n",
    "                              \"ed_dataSetType\":\"\",\n",
    "                              \"ed_instrument\":\"\",\n",
    "                              \"ed_GEO\":\"\",\n",
    "                              \"ed_SRA_No\":\"\",\n",
    "                              \"ed_searchKey\":\"\",\n",
    "                              \"ed_ffi_state\":-3}}\n",
    "    r = requests.post(url,data=json.dumps(pyload),headers=header)\n",
    "    result = r.json()\n",
    "    result_dic = dict(result)\n",
    "    for i in result_dic['d']['rows']:\n",
    "        if i['ed_dataSetType'] == 'ribosome footprints' or i['ed_dataSetType'] == 'ribosome footprint' or i['ed_dataSetType'] == 'RPF':\n",
    "            ribo_dic.append(i)\n",
    "            print('length:',len(ribo_dic))"
   ]
  },
  {
   "cell_type": "code",
   "execution_count": 3,
   "metadata": {},
   "outputs": [],
   "source": [
    "table = pd.DataFrame(ribo_dic)\n",
    "table = table.drop(['__type','ed_id','ed_sp_id'],axis=1)\n",
    "table.to_csv('./result.csv')"
   ]
  }
 ],
 "metadata": {
  "kernelspec": {
   "display_name": "Python 3",
   "language": "python",
   "name": "python3"
  },
  "language_info": {
   "codemirror_mode": {
    "name": "ipython",
    "version": 3
   },
   "file_extension": ".py",
   "mimetype": "text/x-python",
   "name": "python",
   "nbconvert_exporter": "python",
   "pygments_lexer": "ipython3",
   "version": "3.8.2"
  }
 },
 "nbformat": 4,
 "nbformat_minor": 4
}
